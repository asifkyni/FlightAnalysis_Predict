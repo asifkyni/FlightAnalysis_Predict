{
 "cells": [
  {
   "cell_type": "code",
   "execution_count": 13,
   "id": "d34cd105-7a31-4ae3-87a5-d1e9c8b1286f",
   "metadata": {},
   "outputs": [
    {
     "name": "stdout",
     "output_type": "stream",
     "text": [
      "Available columns in dataset: Index(['id', 'year', 'month', 'day', 'dep_time', 'sched_dep_time', 'dep_delay',\n",
      "       'arr_time', 'sched_arr_time', 'arr_delay', 'carrier', 'flight',\n",
      "       'tailnum', 'origin', 'dest', 'air_time', 'distance', 'hour', 'minute',\n",
      "       'time_hour', 'name', 'flight_duration', 'day_of_week', 'total_delay'],\n",
      "      dtype='object')\n",
      "Accuracy of the model: 1.0\n",
      "\n",
      "Classification Report:\n",
      "               precision    recall  f1-score   support\n",
      "\n",
      "           0       1.00      1.00      1.00     49987\n",
      "           1       1.00      1.00      1.00     10196\n",
      "\n",
      "    accuracy                           1.00     60183\n",
      "   macro avg       1.00      1.00      1.00     60183\n",
      "weighted avg       1.00      1.00      1.00     60183\n",
      "\n"
     ]
    },
    {
     "name": "stderr",
     "output_type": "stream",
     "text": [
      "Hardware accelerator e.g. GPU is available in the environment, but no `device` argument is passed to the `Pipeline` object. Model will be on CPU.\n",
      "Truncation was not explicitly activated but `max_length` is provided a specific value, please use `truncation=True` to explicitly truncate examples to max length. Defaulting to 'longest_first' truncation strategy. If you encode pairs of sequences (GLUE-style) with the tokenizer you can select this strategy more precisely by providing a specific strategy to `truncation`.\n",
      "Setting `pad_token_id` to `eos_token_id`:None for open-end generation.\n"
     ]
    },
    {
     "name": "stdout",
     "output_type": "stream",
     "text": [
      "\n",
      "The following airlines are showing a prediction of delays based on their flight performance:\n",
      "- Carrier A: High chances of delay in the coming weeks due to frequent departures with high delays.\n",
      "- Carrier B: Moderate chances of delay, with some disruptions due to weather conditions.\n",
      "- Carrier C: Low chances of delay, currently maintaining on-time arrivals.\n",
      "\n",
      "What actions should airline leaders take to mitigate unfavorable circumstances that are not good for business?\n",
      "\n",
      "The airlines should start the elimination of the risk factor for carrier cancellations based on the actual time of the scheduled arrival date as outlined below:\n",
      "\n",
      "What will the airline's decision be for flights coming on the cancelled aircraft be affected by on-time departures?\n",
      "\n",
      "As detailed in our Airports and Terminal Policy, there are several aspects to consider when taking action to mitigate any adverse situation you may face before taking a call for a cancellation:\n",
      "\n",
      "Whether a customer is cancelling a flight for travel related reasons.\n",
      "\n",
      "Whether\n"
     ]
    }
   ],
   "source": [
    "import pandas as pd\n",
    "import numpy as np\n",
    "from sklearn.model_selection import train_test_split\n",
    "from sklearn.ensemble import RandomForestClassifier\n",
    "from sklearn.metrics import accuracy_score, classification_report\n",
    "from sklearn.preprocessing import LabelEncoder\n",
    "from sklearn.impute import SimpleImputer\n",
    "\n",
    "# Load the dataset\n",
    "df = pd.read_csv('./DataSets/KaggleData/flights_gold.csv')\n",
    "\n",
    "# Display available columns in the dataset\n",
    "print(\"Available columns in dataset:\", df.columns)\n",
    "\n",
    "# Handle missing values in important columns\n",
    "df['arr_delay'].fillna(df['arr_delay'].mean(), inplace=True)  # Fill missing arrival delay with the mean\n",
    "df['dep_delay'].fillna(df['dep_delay'].mean(), inplace=True)  # Fill missing departure delay with the mean\n",
    "\n",
    "# Convert year, month, and day into a single datetime feature (flight_date)\n",
    "df['flight_date'] = pd.to_datetime(df[['year', 'month', 'day']])\n",
    "\n",
    "# Extract additional time-based features (e.g., day of the week, hour of the day)\n",
    "df['day_of_week'] = df['flight_date'].dt.dayofweek\n",
    "df['hour_of_day'] = df['dep_time'].astype(str).str.replace(r'\\.', '', regex=True).str.slice(0, 2).astype(int)\n",
    "\n",
    "# Fill missing values for other numeric columns (e.g., flight_duration, distance)\n",
    "df['flight_duration'].fillna(df['flight_duration'].mean(), inplace=True)\n",
    "df['distance'].fillna(df['distance'].mean(), inplace=True)\n",
    "\n",
    "# If 'carrier' is a categorical column, encode it numerically\n",
    "le_carrier = LabelEncoder()\n",
    "df['carrier'] = le_carrier.fit_transform(df['carrier'])\n",
    "\n",
    "# Feature selection: Use columns that are available in the dataset\n",
    "features = ['day_of_week', 'hour_of_day', 'dep_delay', 'arr_delay', 'carrier', 'distance', 'flight_duration']\n",
    "X = df[features]\n",
    "\n",
    "# Target variable: Predict whether there will be a delay (binary classification)\n",
    "# Example: We create a binary target variable based on arrival delay\n",
    "df['target_binary'] = (df['arr_delay'] > 15).astype(int)  # Label flights with arrival delay > 15 minutes as delayed\n",
    "\n",
    "# Handle missing target variable values\n",
    "df.dropna(subset=['target_binary'], inplace=True)  # Remove rows with missing target\n",
    "\n",
    "# Define X (features) and y (target)\n",
    "X = df[features]\n",
    "y = df['target_binary']\n",
    "\n",
    "# Split the data into training and testing sets\n",
    "X_train, X_test, y_train, y_test = train_test_split(X, y, test_size=0.2, random_state=42)\n",
    "\n",
    "# Initialize and train the model\n",
    "model = RandomForestClassifier(n_estimators=100, random_state=42)\n",
    "model.fit(X_train, y_train)\n",
    "\n",
    "# Make predictions\n",
    "y_pred = model.predict(X_test)\n",
    "\n",
    "# Evaluate the model\n",
    "accuracy = accuracy_score(y_test, y_pred)\n",
    "print(\"Accuracy of the model:\", accuracy)\n",
    "print(\"\\nClassification Report:\\n\", classification_report(y_test, y_pred))\n",
    "\n",
    "# Report generation for action steps to mitigate delays\n",
    "# Using GPT-2 (Publicly available)\n",
    "generator = pipeline('text-generation', model='gpt2')\n",
    "\n",
    "# Define a prompt for the model\n",
    "prompt = \"\"\"\n",
    "The following airlines are showing a prediction of delays based on their flight performance:\n",
    "- Carrier A: High chances of delay in the coming weeks due to frequent departures with high delays.\n",
    "- Carrier B: Moderate chances of delay, with some disruptions due to weather conditions.\n",
    "- Carrier C: Low chances of delay, currently maintaining on-time arrivals.\n",
    "\n",
    "What actions should airline leaders take to mitigate unfavorable circumstances that are not good for business?\n",
    "\"\"\"\n",
    "\n",
    "# Generate text based on the prompt\n",
    "generated_text = generator(prompt, max_length=200, num_return_sequences=1)\n",
    "\n",
    "# Display the output\n",
    "print(generated_text[0]['generated_text'])\n"
   ]
  },
  {
   "cell_type": "code",
   "execution_count": 14,
   "id": "5c407c81-ed55-4789-98e5-b15e2e860588",
   "metadata": {},
   "outputs": [
    {
     "name": "stderr",
     "output_type": "stream",
     "text": [
      "Hardware accelerator e.g. GPU is available in the environment, but no `device` argument is passed to the `Pipeline` object. Model will be on CPU.\n",
      "Truncation was not explicitly activated but `max_length` is provided a specific value, please use `truncation=True` to explicitly truncate examples to max length. Defaulting to 'longest_first' truncation strategy. If you encode pairs of sequences (GLUE-style) with the tokenizer you can select this strategy more precisely by providing a specific strategy to `truncation`.\n",
      "Setting `pad_token_id` to `eos_token_id`:None for open-end generation.\n"
     ]
    },
    {
     "name": "stdout",
     "output_type": "stream",
     "text": [
      "\n",
      "The following airlines are showing a prediction of delays based on their flight performance:\n",
      "- Carrier A: High chances of delay in the coming weeks due to frequent departures with high delays.\n",
      "- Carrier B: Moderate chances of delay, with some disruptions due to weather conditions.\n",
      "- Carrier C: Low chances of delay, currently maintaining on-time arrivals.\n",
      "\n",
      "What actions should airline leaders take to mitigate unfavorable circumstances that are not good for business?\n",
      "\n",
      "In order to reduce delays in general and a small number of particular airports on one chain, airlines are required to use their own time and resources. Air carriers should:\n",
      "\n",
      "Consider the impact of any scheduled and delayed departures in the future and the impact of these delayed departures on the overall business performance of their airline. A number of important factors such as airline employees, employees' travel habits, the quality of the travel the airline conducts with its employees, and the ability to pay staff are important to consider when planning and implementing long-haul\n"
     ]
    }
   ],
   "source": [
    "from transformers import pipeline\n",
    "\n",
    "# Using GPT-2 (Publicly available)\n",
    "generator = pipeline('text-generation', model='gpt2')\n",
    "\n",
    "# Define a prompt for the model\n",
    "prompt = \"\"\"\n",
    "The following airlines are showing a prediction of delays based on their flight performance:\n",
    "- Carrier A: High chances of delay in the coming weeks due to frequent departures with high delays.\n",
    "- Carrier B: Moderate chances of delay, with some disruptions due to weather conditions.\n",
    "- Carrier C: Low chances of delay, currently maintaining on-time arrivals.\n",
    "\n",
    "What actions should airline leaders take to mitigate unfavorable circumstances that are not good for business?\n",
    "\"\"\"\n",
    "\n",
    "# Generate text based on the prompt\n",
    "generated_text = generator(prompt, max_length=200, num_return_sequences=1)\n",
    "\n",
    "# Display the output\n",
    "print(generated_text[0]['generated_text'])\n"
   ]
  },
  {
   "cell_type": "code",
   "execution_count": null,
   "id": "3f6bf3db-06e3-46f3-9ec7-62d30322b6b0",
   "metadata": {},
   "outputs": [],
   "source": []
  }
 ],
 "metadata": {
  "kernelspec": {
   "display_name": "Python 3 (ipykernel)",
   "language": "python",
   "name": "python3"
  },
  "language_info": {
   "codemirror_mode": {
    "name": "ipython",
    "version": 3
   },
   "file_extension": ".py",
   "mimetype": "text/x-python",
   "name": "python",
   "nbconvert_exporter": "python",
   "pygments_lexer": "ipython3",
   "version": "3.8.19"
  }
 },
 "nbformat": 4,
 "nbformat_minor": 5
}
